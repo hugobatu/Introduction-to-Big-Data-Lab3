{
 "cells": [
  {
   "cell_type": "code",
   "id": "initial_id",
   "metadata": {
    "collapsed": true,
    "ExecuteTime": {
     "end_time": "2025-04-11T11:50:38.754158Z",
     "start_time": "2025-04-11T11:50:38.541223Z"
    }
   },
   "source": [
    "from pyspark.sql import SparkSession\n",
    "from pyspark.sql.functions import hour, dayofweek, month, radians, asin, sqrt, pow, dayofyear, log, exp, sin, cos, col\n",
    "from pyspark.ml.feature import VectorAssembler\n",
    "from pyspark.ml.regression import DecisionTreeRegressor\n",
    "from pyspark.ml.evaluation import RegressionEvaluator\n",
    "from pyspark.ml.tuning import CrossValidator, ParamGridBuilder"
   ],
   "outputs": [],
   "execution_count": 1
  },
  {
   "metadata": {
    "ExecuteTime": {
     "end_time": "2025-04-11T11:50:41.533590Z",
     "start_time": "2025-04-11T11:50:38.760243Z"
    }
   },
   "cell_type": "code",
   "source": [
    "spark = SparkSession.builder \\\n",
    "    .appName(\"Problem2 Structured API\") \\\n",
    "    .master(\"local[*]\") \\\n",
    "    .config(\"spark.driver.memory\", \"8g\") \\\n",
    "    .config(\"spark.executor.memory\", \"8g\") \\\n",
    "    .getOrCreate()\n"
   ],
   "id": "2df60a0463a0ca07",
   "outputs": [
    {
     "name": "stderr",
     "output_type": "stream",
     "text": [
      "25/04/11 18:50:40 WARN Utils: Your hostname, nam-Nitro-AN515-45 resolves to a loopback address: 127.0.1.1; using 192.168.1.18 instead (on interface wlp5s0)\n",
      "25/04/11 18:50:40 WARN Utils: Set SPARK_LOCAL_IP if you need to bind to another address\n",
      "Setting default log level to \"WARN\".\n",
      "To adjust logging level use sc.setLogLevel(newLevel). For SparkR, use setLogLevel(newLevel).\n",
      "25/04/11 18:50:40 WARN NativeCodeLoader: Unable to load native-hadoop library for your platform... using builtin-java classes where applicable\n"
     ]
    }
   ],
   "execution_count": 2
  },
  {
   "metadata": {
    "ExecuteTime": {
     "end_time": "2025-04-11T11:50:46.830028Z",
     "start_time": "2025-04-11T11:50:41.647154Z"
    }
   },
   "cell_type": "code",
   "source": [
    "# Load data\n",
    "try:\n",
    "    train_data = spark.read.csv(\"train.csv\", header=True, inferSchema=True)\n",
    "except Exception as e:\n",
    "    print(f\"Error loading train data: {e}\")\n",
    "    spark.stop()\n",
    "    exit(1)\n",
    "\n",
    "train_data.show()"
   ],
   "id": "e2b79c7f9072cbd3",
   "outputs": [
    {
     "name": "stderr",
     "output_type": "stream",
     "text": [
      "                                                                                \r"
     ]
    },
    {
     "name": "stdout",
     "output_type": "stream",
     "text": [
      "+---------+---------+-------------------+-------------------+---------------+------------------+------------------+------------------+------------------+------------------+-------------+\n",
      "|       id|vendor_id|    pickup_datetime|   dropoff_datetime|passenger_count|  pickup_longitude|   pickup_latitude| dropoff_longitude|  dropoff_latitude|store_and_fwd_flag|trip_duration|\n",
      "+---------+---------+-------------------+-------------------+---------------+------------------+------------------+------------------+------------------+------------------+-------------+\n",
      "|id2875421|        2|2016-03-14 17:24:55|2016-03-14 17:32:30|              1| -73.9821548461914| 40.76793670654297|-73.96463012695312|40.765602111816406|                 N|          455|\n",
      "|id2377394|        1|2016-06-12 00:43:35|2016-06-12 00:54:38|              1|-73.98041534423828|40.738563537597656|-73.99948120117188| 40.73115158081055|                 N|          663|\n",
      "|id3858529|        2|2016-01-19 11:35:24|2016-01-19 12:10:48|              1| -73.9790267944336|40.763938903808594|-74.00533294677734|40.710086822509766|                 N|         2124|\n",
      "|id3504673|        2|2016-04-06 19:32:31|2016-04-06 19:39:40|              1|-74.01004028320312|   40.719970703125|-74.01226806640625| 40.70671844482422|                 N|          429|\n",
      "|id2181028|        2|2016-03-26 13:30:55|2016-03-26 13:38:10|              1|-73.97305297851562|40.793209075927734| -73.9729232788086| 40.78252029418945|                 N|          435|\n",
      "|id0801584|        2|2016-01-30 22:01:40|2016-01-30 22:09:03|              6|-73.98285675048828| 40.74219512939453|-73.99208068847656|40.749183654785156|                 N|          443|\n",
      "|id1813257|        1|2016-06-17 22:34:59|2016-06-17 22:40:40|              4| -73.9690170288086| 40.75783920288086|-73.95740509033203| 40.76589584350586|                 N|          341|\n",
      "|id1324603|        2|2016-05-21 07:54:58|2016-05-21 08:20:49|              1|-73.96927642822266| 40.79777908325195|-73.92247009277344| 40.76055908203125|                 N|         1551|\n",
      "|id1301050|        1|2016-05-27 23:12:23|2016-05-27 23:16:38|              1|-73.99948120117188|40.738399505615234|-73.98578643798828| 40.73281478881836|                 N|          255|\n",
      "|id0012891|        2|2016-03-10 21:45:01|2016-03-10 22:05:26|              1|-73.98104858398438| 40.74433898925781| -73.9729995727539| 40.78998947143555|                 N|         1225|\n",
      "|id1436371|        2|2016-05-10 22:08:41|2016-05-10 22:29:55|              1|-73.98265075683594| 40.76383972167969|-74.00222778320312| 40.73299026489258|                 N|         1274|\n",
      "|id1299289|        2|2016-05-15 11:16:11|2016-05-15 11:34:59|              4|-73.99153137207031| 40.74943923950195|   -73.95654296875|  40.7706298828125|                 N|         1128|\n",
      "|id1187965|        2|2016-02-19 09:52:46|2016-02-19 10:11:20|              2|-73.96298217773438| 40.75667953491211|-73.98440551757812|40.760719299316406|                 N|         1114|\n",
      "|id0799785|        2|2016-06-01 20:58:29|2016-06-01 21:02:49|              1|-73.95630645751953|40.767940521240234|-73.96611022949219| 40.76300048828125|                 N|          260|\n",
      "|id2900608|        2|2016-05-27 00:43:36|2016-05-27 01:07:10|              1|-73.99219512939453| 40.72722625732422|-73.97465515136719|  40.7830696105957|                 N|         1414|\n",
      "|id3319787|        1|2016-05-16 15:29:02|2016-05-16 15:32:33|              1|-73.95551300048828|40.768592834472656|-73.94876098632812| 40.77154541015625|                 N|          211|\n",
      "|id3379579|        2|2016-04-11 17:29:50|2016-04-11 18:08:26|              1|-73.99116516113281| 40.75556182861328| -73.9992904663086|  40.7253532409668|                 N|         2316|\n",
      "|id1154431|        1|2016-04-14 08:48:26|2016-04-14 09:00:37|              1|-73.99425506591797| 40.74580383300781| -73.9996566772461| 40.72334289550781|                 N|          731|\n",
      "|id3552682|        1|2016-06-27 09:55:13|2016-06-27 10:17:10|              1|-74.00398254394531|  40.7130126953125|-73.97919464111328| 40.74992370605469|                 N|         1317|\n",
      "|id3390316|        2|2016-06-05 13:47:23|2016-06-05 13:51:34|              1|   -73.98388671875|40.738197326660156|-73.99120330810547| 40.72787094116211|                 N|          251|\n",
      "+---------+---------+-------------------+-------------------+---------------+------------------+------------------+------------------+------------------+------------------+-------------+\n",
      "only showing top 20 rows\n",
      "\n"
     ]
    }
   ],
   "execution_count": 3
  },
  {
   "metadata": {
    "ExecuteTime": {
     "end_time": "2025-04-11T11:50:46.853491Z",
     "start_time": "2025-04-11T11:50:46.848134Z"
    }
   },
   "cell_type": "code",
   "source": [
    "# Feature engineering function\n",
    "def prepare_features(data):\n",
    "    return data.withColumn(\"pickup_day_of_year\", dayofyear(\"pickup_datetime\")) \\\n",
    "        .withColumn(\"pickup_day_of_week\", dayofweek(\"pickup_datetime\")) \\\n",
    "        .withColumn(\"pickup_hour_of_day\", hour(\"pickup_datetime\")) \\\n",
    "        .withColumn(\"pickup_month\", month(\"pickup_datetime\")) \\\n",
    "        .withColumn(\"haversine\",\n",
    "                    6371 * 2 * asin(sqrt(pow(sin((radians(\"pickup_latitude\") - radians(\"dropoff_latitude\")) / 2), 2) +\n",
    "                                         cos(radians(\"pickup_latitude\")) * cos(radians(\"dropoff_latitude\")) *\n",
    "                                         pow(sin((radians(\"pickup_longitude\") - radians(\"dropoff_longitude\")) / 2),\n",
    "                                             2))))\n",
    "\n",
    "\n",
    "# Data cleaning and outlier removal using IQR\n",
    "def remove_outliers(data, column, lower_quantile=0.25, upper_quantile=0.75, k=1.5):\n",
    "    quantiles = data.approxQuantile(column, [lower_quantile, upper_quantile], 0.05)\n",
    "    iqr = quantiles[1] - quantiles[0]\n",
    "    lower_bound = quantiles[0] - k * iqr\n",
    "    upper_bound = quantiles[1] + k * iqr\n",
    "    return data.filter((col(column) >= lower_bound) & (col(column) <= upper_bound))\n",
    "\n",
    "\n",
    "# Evaluate model\n",
    "def evaluate_model(predictions, dataset_name):\n",
    "    predictions = predictions.withColumn(\"predicted_duration\", col(\"prediction\"))\n",
    "    metrics = {}\n",
    "    for metric in [\"rmse\", \"mse\", \"mae\", \"r2\"]:\n",
    "        evaluator = RegressionEvaluator(labelCol=\"trip_duration\", predictionCol=\"predicted_duration\", metricName=metric)\n",
    "        value = evaluator.evaluate(predictions)\n",
    "        metrics[metric] = value\n",
    "        print(f\"\\n{metric.upper()} on {dataset_name} = {value}\")\n",
    "    return metrics"
   ],
   "id": "42a8ce330cb37b22",
   "outputs": [],
   "execution_count": 4
  },
  {
   "metadata": {
    "ExecuteTime": {
     "end_time": "2025-04-11T11:50:52.737491Z",
     "start_time": "2025-04-11T11:50:46.893098Z"
    }
   },
   "cell_type": "code",
   "source": [
    "# Features\n",
    "train_data = prepare_features(train_data)\n",
    "train_data.cache()\n",
    "\n",
    "# Remove outliers\n",
    "train_data = train_data.filter(\"haversine > 0\").filter(\"passenger_count > 0\").filter(\"trip_duration > 0\")\n",
    "train_data = remove_outliers(train_data, \"trip_duration\")\n",
    "train_data = remove_outliers(train_data, \"haversine\")"
   ],
   "id": "d67eb1d9d43936e1",
   "outputs": [
    {
     "name": "stderr",
     "output_type": "stream",
     "text": [
      "25/04/11 18:50:52 WARN GarbageCollectionMetrics: To enable non-built-in garbage collector(s) List(G1 Concurrent GC), users should configure it(them) to spark.eventLog.gcMetrics.youngGenerationGarbageCollectors or spark.eventLog.gcMetrics.oldGenerationGarbageCollectors\n"
     ]
    }
   ],
   "execution_count": 5
  },
  {
   "metadata": {
    "ExecuteTime": {
     "end_time": "2025-04-11T11:50:52.932332Z",
     "start_time": "2025-04-11T11:50:52.745596Z"
    }
   },
   "cell_type": "code",
   "source": [
    "features = [\"pickup_longitude\", \"pickup_latitude\", \"dropoff_longitude\", \"dropoff_latitude\",\n",
    "            \"pickup_day_of_year\", \"pickup_day_of_week\", \"pickup_hour_of_day\", \"pickup_month\",\n",
    "            \"haversine\", \"passenger_count\"]\n",
    "\n",
    "# VectorAssembler\n",
    "assembler = VectorAssembler(inputCols=features, outputCol=\"features\")\n",
    "assembled_data = assembler.transform(train_data).select(\"id\", \"features\", \"trip_duration\")\n",
    "assembled_data.cache()"
   ],
   "id": "53cca8c09abc4dfe",
   "outputs": [
    {
     "data": {
      "text/plain": [
       "DataFrame[id: string, features: vector, trip_duration: int]"
      ]
     },
     "execution_count": 6,
     "metadata": {},
     "output_type": "execute_result"
    }
   ],
   "execution_count": 6
  },
  {
   "metadata": {
    "ExecuteTime": {
     "end_time": "2025-04-11T11:50:52.963124Z",
     "start_time": "2025-04-11T11:50:52.940313Z"
    }
   },
   "cell_type": "code",
   "source": [
    "# Define Decision Tree Regressor\n",
    "decision_tree = DecisionTreeRegressor(featuresCol=\"features\", labelCol=\"trip_duration\", seed=42)\n",
    "\n",
    "# Define parameter grid for hyperparameter tuning\n",
    "param_grid = ParamGridBuilder() \\\n",
    "    .addGrid(decision_tree.maxDepth, [5, 7, 10]) \\\n",
    "    .addGrid(decision_tree.minInstancesPerNode, [3, 5, 7, 10]) \\\n",
    "    .build()\n",
    "\n",
    "# Define evaluator\n",
    "evaluator = RegressionEvaluator(labelCol=\"trip_duration\", predictionCol=\"prediction\", metricName=\"rmse\")\n",
    "\n",
    "# Set up CrossValidator\n",
    "crossval = CrossValidator(estimator=decision_tree,\n",
    "                          estimatorParamMaps=param_grid,\n",
    "                          evaluator=evaluator,\n",
    "                          numFolds=5,\n",
    "                          seed=42)"
   ],
   "id": "97831c7c259e7302",
   "outputs": [],
   "execution_count": 7
  },
  {
   "metadata": {
    "ExecuteTime": {
     "end_time": "2025-04-11T11:52:16.146296Z",
     "start_time": "2025-04-11T11:50:52.981810Z"
    }
   },
   "cell_type": "code",
   "source": [
    "# Train model\n",
    "try:\n",
    "    cv_model = crossval.fit(assembled_data)\n",
    "    best_model = cv_model.bestModel\n",
    "except Exception as e:\n",
    "    print(f\"Error during model training: {e}\")\n",
    "    spark.stop()\n",
    "    exit(1)\n",
    "\n",
    "# Split into training and validation sets for final evaluation\n",
    "train, validation = assembled_data.randomSplit([0.8, 0.2], seed=42)"
   ],
   "id": "63289073d6dad7df",
   "outputs": [
    {
     "name": "stderr",
     "output_type": "stream",
     "text": [
      "                                                                                \r"
     ]
    }
   ],
   "execution_count": 8
  },
  {
   "metadata": {
    "ExecuteTime": {
     "end_time": "2025-04-11T11:52:20.457098Z",
     "start_time": "2025-04-11T11:52:16.170343Z"
    }
   },
   "cell_type": "code",
   "source": [
    "# Predictions and evaluation\n",
    "train_predictions = best_model.transform(train)\n",
    "print(\"\\n=== Training Data Metrics ===\")\n",
    "train_metrics = evaluate_model(train_predictions, \"training data\")\n",
    "\n",
    "validation_predictions = best_model.transform(validation)\n",
    "print(\"\\n=== Validation Data Metrics ===\")\n",
    "validation_metrics = evaluate_model(validation_predictions, \"validation data\")"
   ],
   "id": "84c82d8318d2b96",
   "outputs": [
    {
     "name": "stdout",
     "output_type": "stream",
     "text": [
      "\n",
      "=== Training Data Metrics ===\n"
     ]
    },
    {
     "name": "stderr",
     "output_type": "stream",
     "text": [
      "                                                                                \r"
     ]
    },
    {
     "name": "stdout",
     "output_type": "stream",
     "text": [
      "\n",
      "RMSE on training data = 234.49713476712958\n"
     ]
    },
    {
     "name": "stderr",
     "output_type": "stream",
     "text": [
      "                                                                                \r"
     ]
    },
    {
     "name": "stdout",
     "output_type": "stream",
     "text": [
      "\n",
      "MSE on training data = 54988.90621399333\n",
      "\n",
      "MAE on training data = 172.71133268041575\n",
      "\n",
      "R2 on training data = 0.598813666260533\n",
      "\n",
      "=== Validation Data Metrics ===\n",
      "\n",
      "RMSE on validation data = 235.1705973245371\n",
      "\n",
      "MSE on validation data = 55305.20984597958\n",
      "\n",
      "MAE on validation data = 173.23089203901273\n",
      "\n",
      "R2 on validation data = 0.5992673263373948\n"
     ]
    }
   ],
   "execution_count": 9
  },
  {
   "metadata": {
    "ExecuteTime": {
     "end_time": "2025-04-11T11:52:20.603272Z",
     "start_time": "2025-04-11T11:52:20.460104Z"
    }
   },
   "cell_type": "code",
   "source": [
    "# Model diagnostics\n",
    "print(\"\\n=== Model Diagnostics ===\")\n",
    "print(\"Feature Importances:\")\n",
    "for i, importance in enumerate(best_model.featureImportances):\n",
    "    print(f\"{features[i]}: {importance}\")\n",
    "\n",
    "print(\"Decision Tree Depth:\", best_model.depth)\n",
    "print(\"Number of Nodes:\", best_model.numNodes)\n",
    "print(\"Number of Features:\", best_model.numFeatures)\n",
    "print(\"Best maxDepth:\", best_model.getMaxDepth())\n",
    "print(\"Best minInstancesPerNode:\", best_model.getMinInstancesPerNode())\n",
    "\n",
    "train_data.unpersist()\n",
    "assembled_data.unpersist()\n",
    "spark.stop()"
   ],
   "id": "3c72effb793f95c",
   "outputs": [
    {
     "name": "stdout",
     "output_type": "stream",
     "text": [
      "\n",
      "=== Model Diagnostics ===\n",
      "Feature Importances:\n",
      "pickup_longitude: 0.00385487018403132\n",
      "pickup_latitude: 0.0033164470727624074\n",
      "dropoff_longitude: 0.006813564675981587\n",
      "dropoff_latitude: 0.05450252495062818\n",
      "pickup_day_of_year: 0.0010952752520476266\n",
      "pickup_day_of_week: 0.0472797813520864\n",
      "pickup_hour_of_day: 0.11019161468908256\n",
      "pickup_month: 8.211604121482907e-06\n",
      "haversine: 0.7728617931490022\n",
      "passenger_count: 7.59170702563842e-05\n",
      "Decision Tree Depth: 10\n",
      "Number of Nodes: 1971\n",
      "Number of Features: 10\n",
      "Best maxDepth: 10\n",
      "Best minInstancesPerNode: 10\n"
     ]
    }
   ],
   "execution_count": 10
  }
 ],
 "metadata": {
  "kernelspec": {
   "display_name": "Python 3",
   "language": "python",
   "name": "python3"
  },
  "language_info": {
   "codemirror_mode": {
    "name": "ipython",
    "version": 2
   },
   "file_extension": ".py",
   "mimetype": "text/x-python",
   "name": "python",
   "nbconvert_exporter": "python",
   "pygments_lexer": "ipython2",
   "version": "2.7.6"
  }
 },
 "nbformat": 4,
 "nbformat_minor": 5
}
