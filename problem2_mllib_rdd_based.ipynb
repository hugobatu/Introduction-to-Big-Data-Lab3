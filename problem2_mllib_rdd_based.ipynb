{
 "cells": [
  {
   "cell_type": "code",
   "id": "initial_id",
   "metadata": {
    "collapsed": true,
    "ExecuteTime": {
     "end_time": "2025-04-12T05:24:19.275331Z",
     "start_time": "2025-04-12T05:24:18.993240Z"
    }
   },
   "source": [
    "import csv\n",
    "import math\n",
    "import numpy as np\n",
    "from datetime import datetime\n",
    "from pyspark import SparkContext\n",
    "from pyspark.mllib.regression import LabeledPoint\n",
    "from pyspark.mllib.tree import DecisionTree\n",
    "from pyspark.mllib.evaluation import RegressionMetrics\n",
    "from pyspark.mllib.linalg import Vectors"
   ],
   "outputs": [],
   "execution_count": 1
  },
  {
   "cell_type": "code",
   "id": "8721563a57d54ad3",
   "metadata": {
    "ExecuteTime": {
     "end_time": "2025-04-12T05:24:22.568150Z",
     "start_time": "2025-04-12T05:24:19.280920Z"
    }
   },
   "source": [
    "# Spark context\n",
    "sc = SparkContext.getOrCreate()\n",
    "sc.setLogLevel(\"ERROR\")"
   ],
   "outputs": [
    {
     "name": "stderr",
     "output_type": "stream",
     "text": [
      "25/04/12 12:24:20 WARN Utils: Your hostname, nam-Nitro-AN515-45 resolves to a loopback address: 127.0.1.1; using 192.168.1.18 instead (on interface wlp5s0)\n",
      "25/04/12 12:24:20 WARN Utils: Set SPARK_LOCAL_IP if you need to bind to another address\n",
      "Setting default log level to \"WARN\".\n",
      "To adjust logging level use sc.setLogLevel(newLevel). For SparkR, use setLogLevel(newLevel).\n",
      "25/04/12 12:24:21 WARN NativeCodeLoader: Unable to load native-hadoop library for your platform... using builtin-java classes where applicable\n"
     ]
    }
   ],
   "execution_count": 2
  },
  {
   "cell_type": "code",
   "id": "a315978fcf3898dd",
   "metadata": {
    "ExecuteTime": {
     "end_time": "2025-04-12T05:24:23.212140Z",
     "start_time": "2025-04-12T05:24:22.744030Z"
    }
   },
   "source": [
    "# Load the dataset\n",
    "try:\n",
    "    train_data = sc.textFile(\"train.csv\")\n",
    "    test_data = sc.textFile(\"test.csv\")\n",
    "except Exception as e:\n",
    "    print(f\"Error reading CSV file: {e}\")\n",
    "    sc.stop()\n",
    "    exit(1)"
   ],
   "outputs": [],
   "execution_count": 3
  },
  {
   "cell_type": "code",
   "id": "6ab25db450b9df24",
   "metadata": {
    "ExecuteTime": {
     "end_time": "2025-04-12T05:24:23.230436Z",
     "start_time": "2025-04-12T05:24:23.223477Z"
    }
   },
   "source": [
    "# Parse the dataset\n",
    "def parse_datetime(datetime_str):\n",
    "    dt = datetime.strptime(datetime_str, \"%Y-%m-%d %H:%M:%S\")\n",
    "    return [dt.hour, dt.weekday(), dt.month, dt.timetuple().tm_yday]\n",
    "\n",
    "\n",
    "def compute_distance(long_1, lat_1, long_2, lat_2):\n",
    "    long_diff = math.radians(long_1 - long_2) / 2\n",
    "    lat_diff = math.radians(lat_1 - lat_2) / 2\n",
    "    a = math.sin(lat_diff) ** 2 + \\\n",
    "        math.cos(math.radians(lat_1)) * \\\n",
    "        math.cos(math.radians(lat_2)) * \\\n",
    "        math.sin(long_diff) ** 2\n",
    "    return 6371 * 2 * math.asin(math.sqrt(a))\n",
    "\n",
    "\n",
    "def parse_train(row):\n",
    "    cols = row.split(\",\")\n",
    "    passenger_count = float(cols[4])\n",
    "    long_lats = [float(col) for col in cols[5:9]]\n",
    "    trip_duration = float(cols[10])\n",
    "    pickup_datetime = parse_datetime(cols[2])\n",
    "    trip_distance = compute_distance(*long_lats)\n",
    "    # Features: hour, weekday, month, day_of_year, passenger_count, pickup_long, pickup_lat, dropoff_long, dropoff_lat, distance\n",
    "    # Target: trip_duration\n",
    "    return [*pickup_datetime, passenger_count, *long_lats, trip_distance, trip_duration]\n",
    "\n",
    "def parse_test(row):\n",
    "    cols = row.split(\",\")\n",
    "    passenger_count = float(cols[3])\n",
    "    long_lats = [float(col) for col in cols[4:8]]\n",
    "    pickup_datetime = parse_datetime(cols[2])\n",
    "    trip_distance = compute_distance(*long_lats)\n",
    "    trip_id = cols[0]\n",
    "    # Features: hour, weekday, month, day_of_year, passenger_count, pickup_long, pickup_lat, dropoff_long, dropoff_lat, distance\n",
    "    # Target: trip_duration\n",
    "    return [*pickup_datetime, passenger_count, *long_lats, trip_distance, trip_id]"
   ],
   "outputs": [],
   "execution_count": 4
  },
  {
   "cell_type": "code",
   "id": "50252c5690be196c",
   "metadata": {
    "ExecuteTime": {
     "end_time": "2025-04-12T05:24:24.724282Z",
     "start_time": "2025-04-12T05:24:23.265689Z"
    }
   },
   "source": [
    "train_header = train_data.first()\n",
    "train_data = train_data.filter(lambda row: row != train_header)\n",
    "train_data = train_data.map(parse_train)\n",
    "\n",
    "test_header = test_data.first()\n",
    "test_data = test_data.filter(lambda row: row != test_header)\n",
    "test_data = test_data.map(parse_test)\n",
    "\n",
    "# Initial filtering\n",
    "train_data = train_data.filter(lambda row: row[9] > 0)  # distance > 0\n",
    "train_data = train_data.filter(lambda row: row[10] > 0)  # duration > 0\n",
    "train_data = train_data.filter(lambda row: row[4] > 0)  # passenger_count > 0"
   ],
   "outputs": [
    {
     "name": "stderr",
     "output_type": "stream",
     "text": [
      "                                                                                \r"
     ]
    }
   ],
   "execution_count": 5
  },
  {
   "cell_type": "code",
   "id": "fc43f00040e76561",
   "metadata": {
    "ExecuteTime": {
     "end_time": "2025-04-12T05:24:33.751519Z",
     "start_time": "2025-04-12T05:24:24.747507Z"
    }
   },
   "source": [
    "# Preprocess the data\n",
    "def remove_outliers(data, column, lower_quantile=0.25, upper_quantile=0.75, k=1.5):\n",
    "    values = data.map(lambda row: row[column]).collect()\n",
    "    lower_quantile_value = np.percentile(values, lower_quantile * 100)\n",
    "    upper_quantile_value = np.percentile(values, upper_quantile * 100)\n",
    "    iqr = upper_quantile_value - lower_quantile_value\n",
    "    lower_bound = lower_quantile_value - k * iqr\n",
    "    upper_bound = upper_quantile_value + k * iqr\n",
    "    return data.filter(lambda row: lower_bound <= row[column] <= upper_bound)\n",
    "\n",
    "\n",
    "train_data = remove_outliers(train_data, 9)  # distance\n",
    "train_data = remove_outliers(train_data, 10)  # duration"
   ],
   "outputs": [
    {
     "name": "stderr",
     "output_type": "stream",
     "text": [
      "                                                                                \r"
     ]
    }
   ],
   "execution_count": 6
  },
  {
   "cell_type": "code",
   "id": "81e0bb27f849458",
   "metadata": {
    "ExecuteTime": {
     "end_time": "2025-04-12T05:25:05.063055Z",
     "start_time": "2025-04-12T05:24:33.762957Z"
    }
   },
   "source": [
    "# Convert to LabeledPoint(label, features) tuple and split train/val\n",
    "train_data = train_data.map(lambda row: LabeledPoint(row[-1], row[:-2]))\n",
    "train_data, val_data = train_data.randomSplit([0.8, 0.2], seed=42)\n",
    "\n",
    "# Train the model\n",
    "model = DecisionTree.trainRegressor(\n",
    "    train_data,\n",
    "    categoricalFeaturesInfo={},\n",
    "    maxDepth=30,\n",
    "    minInstancesPerNode=30,\n",
    "    maxBins=128,\n",
    ")"
   ],
   "outputs": [
    {
     "name": "stderr",
     "output_type": "stream",
     "text": [
      "                                                                                \r"
     ]
    }
   ],
   "execution_count": 7
  },
  {
   "cell_type": "code",
   "id": "1043701d8ae07ff8",
   "metadata": {
    "ExecuteTime": {
     "end_time": "2025-04-12T05:25:05.085676Z",
     "start_time": "2025-04-12T05:25:05.082314Z"
    }
   },
   "source": [
    "# Evaluate the model\n",
    "def evaluate_model(model, data, dataset_name):\n",
    "    features = data.map(lambda x: x.features)\n",
    "    labels = data.map(lambda x: x.label)\n",
    "\n",
    "    predictions = model.predict(features)\n",
    "\n",
    "    pred_and_labels = predictions.zip(labels).map(lambda x: (float(x[0]), float(x[1])))\n",
    "    metrics = RegressionMetrics(pred_and_labels)\n",
    "\n",
    "    # Print metrics\n",
    "    print(f\"\\n=== {dataset_name} Metrics ===\")\n",
    "    print(f\"RMSE: {metrics.rootMeanSquaredError}\")\n",
    "    print(f\"MSE: {metrics.meanSquaredError}\")\n",
    "    print(f\"MAE: {metrics.meanAbsoluteError}\")\n",
    "    print(f\"R2: {metrics.r2}\")"
   ],
   "outputs": [],
   "execution_count": 8
  },
  {
   "cell_type": "code",
   "id": "e80529ad9fb82d4f",
   "metadata": {
    "ExecuteTime": {
     "end_time": "2025-04-12T05:25:37.880438Z",
     "start_time": "2025-04-12T05:25:05.114620Z"
    }
   },
   "source": [
    "evaluate_model(model, train_data, \"Training Data\")\n",
    "evaluate_model(model, val_data, \"Validation Data\")"
   ],
   "outputs": [
    {
     "name": "stderr",
     "output_type": "stream",
     "text": [
      "/home/nam/PycharmProjects/PySparkProject/.venv/lib/python3.10/site-packages/pyspark/sql/context.py:158: FutureWarning: Deprecated in 3.0.0. Use SparkSession.builder.getOrCreate() instead.\n",
      "  warnings.warn(\n",
      "                                                                                \r"
     ]
    },
    {
     "name": "stdout",
     "output_type": "stream",
     "text": [
      "\n",
      "=== Training Data Metrics ===\n"
     ]
    },
    {
     "name": "stderr",
     "output_type": "stream",
     "text": [
      "/home/nam/PycharmProjects/PySparkProject/.venv/lib/python3.10/site-packages/pyspark/sql/context.py:158: FutureWarning: Deprecated in 3.0.0. Use SparkSession.builder.getOrCreate() instead.\n",
      "  warnings.warn(\n"
     ]
    },
    {
     "name": "stdout",
     "output_type": "stream",
     "text": [
      "RMSE: 197.93184847154677\n",
      "MSE: 39177.016639363355\n",
      "MAE: 146.39200471256427\n",
      "R2: 0.7217969717263647\n"
     ]
    },
    {
     "name": "stderr",
     "output_type": "stream",
     "text": [
      "                                                                                \r"
     ]
    },
    {
     "name": "stdout",
     "output_type": "stream",
     "text": [
      "\n",
      "=== Validation Data Metrics ===\n"
     ]
    },
    {
     "name": "stderr",
     "output_type": "stream",
     "text": [
      "[Stage 73:================================================>         (5 + 1) / 6]\r"
     ]
    },
    {
     "name": "stdout",
     "output_type": "stream",
     "text": [
      "RMSE: 217.46851064291195\n",
      "MSE: 47292.55312124631\n",
      "MAE: 160.9846768328867\n",
      "R2: 0.664624255151187\n"
     ]
    },
    {
     "name": "stderr",
     "output_type": "stream",
     "text": [
      "                                                                                \r"
     ]
    }
   ],
   "execution_count": 9
  },
  {
   "cell_type": "code",
   "id": "e5fc864f",
   "metadata": {
    "ExecuteTime": {
     "end_time": "2025-04-12T05:25:44.742002Z",
     "start_time": "2025-04-12T05:25:37.890639Z"
    }
   },
   "source": [
    "test_features = test_data.map(lambda row: Vectors.dense(row[0:9]))\n",
    "test_ids = test_data.map(lambda row: row[-1])\n",
    "predictions = model.predict(test_features)\n",
    "result = test_ids.zip(predictions)\n",
    "result_list = result.collect()\n",
    "\n",
    "with open(\"predictions.csv\", \"w\", newline=\"\") as f:\n",
    "    writer = csv.writer(f)\n",
    "    writer.writerow([\"id\", \"trip_duration\"])\n",
    "    writer.writerows(result_list)\n",
    "sc.stop()"
   ],
   "outputs": [
    {
     "name": "stderr",
     "output_type": "stream",
     "text": [
      "                                                                                \r"
     ]
    }
   ],
   "execution_count": 10
  }
 ],
 "metadata": {
  "kernelspec": {
   "display_name": "Python 3",
   "language": "python",
   "name": "python3"
  },
  "language_info": {
   "codemirror_mode": {
    "name": "ipython",
    "version": 2
   },
   "file_extension": ".py",
   "mimetype": "text/x-python",
   "name": "python",
   "nbconvert_exporter": "python",
   "pygments_lexer": "ipython2",
   "version": "2.7.6"
  }
 },
 "nbformat": 4,
 "nbformat_minor": 5
}
